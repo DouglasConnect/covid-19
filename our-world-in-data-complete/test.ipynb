{
 "nbformat": 4,
 "nbformat_minor": 2,
 "metadata": {
  "language_info": {
   "name": "python",
   "codemirror_mode": {
    "name": "ipython",
    "version": 3
   },
   "version": "3.7.4-final"
  },
  "orig_nbformat": 2,
  "file_extension": ".py",
  "mimetype": "text/x-python",
  "name": "python",
  "npconvert_exporter": "python",
  "pygments_lexer": "ipython3",
  "version": 3,
  "kernelspec": {
   "name": "python3",
   "display_name": "Python 3"
  }
 },
 "cells": [
  {
   "cell_type": "code",
   "execution_count": 10,
   "metadata": {},
   "outputs": [],
   "source": [
    "import pandas\n",
    "import numpy"
   ]
  },
  {
   "cell_type": "code",
   "execution_count": 14,
   "metadata": {},
   "outputs": [],
   "source": [
    "with open (\"C:\\\\Users\\\\danyx\\\\Downloads\\\\RKI_COVID19.csv\", \"r\", encoding='utf-8') as f:\n",
    "    df = pandas.read_csv(f)"
   ]
  },
  {
   "cell_type": "code",
   "execution_count": 9,
   "metadata": {},
   "outputs": [
    {
     "output_type": "execute_result",
     "data": {
      "text/plain": "       ï»¿IdBundesland          Bundesland     Landkreis Altersgruppe  \\\n0                    1  Schleswig-Holstein  SK Flensburg      A15-A34   \n1                    1  Schleswig-Holstein  SK Flensburg      A15-A34   \n2                    1  Schleswig-Holstein  SK Flensburg      A15-A34   \n3                    1  Schleswig-Holstein  SK Flensburg      A15-A34   \n4                    1  Schleswig-Holstein  SK Flensburg      A15-A34   \n...                ...                 ...           ...          ...   \n37761                9              Bayern  LK GÃ¼nzburg      A35-A59   \n37762                9              Bayern  LK GÃ¼nzburg      A35-A59   \n37763                9              Bayern  LK GÃ¼nzburg      A35-A59   \n37764                9              Bayern  LK GÃ¼nzburg      A35-A59   \n37765                9              Bayern  LK GÃ¼nzburg      A35-A59   \n\n      Geschlecht  AnzahlFall  AnzahlTodesfall  ObjectId  \\\n0              M           1                0    810232   \n1              M           2                0    810233   \n2              M           1                0    810234   \n3              M           1                0    810235   \n4              M           1                0    810236   \n...          ...         ...              ...       ...   \n37761          M           6                0    841227   \n37762          M           2                0    841228   \n37763          M           3                0    841229   \n37764          M           1                0    841230   \n37765          M           6                0    841231   \n\n                     Meldedatum  IdLandkreis             Datenstand  \\\n0      2020-03-14T00:00:00.000Z         1001  06.04.2020, 00:00 Uhr   \n1      2020-03-19T00:00:00.000Z         1001  06.04.2020, 00:00 Uhr   \n2      2020-03-21T00:00:00.000Z         1001  06.04.2020, 00:00 Uhr   \n3      2020-03-27T00:00:00.000Z         1001  06.04.2020, 00:00 Uhr   \n4      2020-04-04T00:00:00.000Z         1001  06.04.2020, 00:00 Uhr   \n...                         ...          ...                    ...   \n37761  2020-03-25T00:00:00.000Z         9774  06.04.2020, 00:00 Uhr   \n37762  2020-03-26T00:00:00.000Z         9774  06.04.2020, 00:00 Uhr   \n37763  2020-03-28T00:00:00.000Z         9774  06.04.2020, 00:00 Uhr   \n37764  2020-03-29T00:00:00.000Z         9774  06.04.2020, 00:00 Uhr   \n37765  2020-03-31T00:00:00.000Z         9774  06.04.2020, 00:00 Uhr   \n\n       NeuerFall  NeuerTodesfall  \n0              0              -9  \n1              0              -9  \n2              0              -9  \n3              0              -9  \n4              0              -9  \n...          ...             ...  \n37761          0              -9  \n37762          0              -9  \n37763          0              -9  \n37764          0              -9  \n37765          0              -9  \n\n[37766 rows x 13 columns]",
      "text/html": "<div>\n<style scoped>\n    .dataframe tbody tr th:only-of-type {\n        vertical-align: middle;\n    }\n\n    .dataframe tbody tr th {\n        vertical-align: top;\n    }\n\n    .dataframe thead th {\n        text-align: right;\n    }\n</style>\n<table border=\"1\" class=\"dataframe\">\n  <thead>\n    <tr style=\"text-align: right;\">\n      <th></th>\n      <th>ï»¿IdBundesland</th>\n      <th>Bundesland</th>\n      <th>Landkreis</th>\n      <th>Altersgruppe</th>\n      <th>Geschlecht</th>\n      <th>AnzahlFall</th>\n      <th>AnzahlTodesfall</th>\n      <th>ObjectId</th>\n      <th>Meldedatum</th>\n      <th>IdLandkreis</th>\n      <th>Datenstand</th>\n      <th>NeuerFall</th>\n      <th>NeuerTodesfall</th>\n    </tr>\n  </thead>\n  <tbody>\n    <tr>\n      <th>0</th>\n      <td>1</td>\n      <td>Schleswig-Holstein</td>\n      <td>SK Flensburg</td>\n      <td>A15-A34</td>\n      <td>M</td>\n      <td>1</td>\n      <td>0</td>\n      <td>810232</td>\n      <td>2020-03-14T00:00:00.000Z</td>\n      <td>1001</td>\n      <td>06.04.2020, 00:00 Uhr</td>\n      <td>0</td>\n      <td>-9</td>\n    </tr>\n    <tr>\n      <th>1</th>\n      <td>1</td>\n      <td>Schleswig-Holstein</td>\n      <td>SK Flensburg</td>\n      <td>A15-A34</td>\n      <td>M</td>\n      <td>2</td>\n      <td>0</td>\n      <td>810233</td>\n      <td>2020-03-19T00:00:00.000Z</td>\n      <td>1001</td>\n      <td>06.04.2020, 00:00 Uhr</td>\n      <td>0</td>\n      <td>-9</td>\n    </tr>\n    <tr>\n      <th>2</th>\n      <td>1</td>\n      <td>Schleswig-Holstein</td>\n      <td>SK Flensburg</td>\n      <td>A15-A34</td>\n      <td>M</td>\n      <td>1</td>\n      <td>0</td>\n      <td>810234</td>\n      <td>2020-03-21T00:00:00.000Z</td>\n      <td>1001</td>\n      <td>06.04.2020, 00:00 Uhr</td>\n      <td>0</td>\n      <td>-9</td>\n    </tr>\n    <tr>\n      <th>3</th>\n      <td>1</td>\n      <td>Schleswig-Holstein</td>\n      <td>SK Flensburg</td>\n      <td>A15-A34</td>\n      <td>M</td>\n      <td>1</td>\n      <td>0</td>\n      <td>810235</td>\n      <td>2020-03-27T00:00:00.000Z</td>\n      <td>1001</td>\n      <td>06.04.2020, 00:00 Uhr</td>\n      <td>0</td>\n      <td>-9</td>\n    </tr>\n    <tr>\n      <th>4</th>\n      <td>1</td>\n      <td>Schleswig-Holstein</td>\n      <td>SK Flensburg</td>\n      <td>A15-A34</td>\n      <td>M</td>\n      <td>1</td>\n      <td>0</td>\n      <td>810236</td>\n      <td>2020-04-04T00:00:00.000Z</td>\n      <td>1001</td>\n      <td>06.04.2020, 00:00 Uhr</td>\n      <td>0</td>\n      <td>-9</td>\n    </tr>\n    <tr>\n      <th>...</th>\n      <td>...</td>\n      <td>...</td>\n      <td>...</td>\n      <td>...</td>\n      <td>...</td>\n      <td>...</td>\n      <td>...</td>\n      <td>...</td>\n      <td>...</td>\n      <td>...</td>\n      <td>...</td>\n      <td>...</td>\n      <td>...</td>\n    </tr>\n    <tr>\n      <th>37761</th>\n      <td>9</td>\n      <td>Bayern</td>\n      <td>LK GÃ¼nzburg</td>\n      <td>A35-A59</td>\n      <td>M</td>\n      <td>6</td>\n      <td>0</td>\n      <td>841227</td>\n      <td>2020-03-25T00:00:00.000Z</td>\n      <td>9774</td>\n      <td>06.04.2020, 00:00 Uhr</td>\n      <td>0</td>\n      <td>-9</td>\n    </tr>\n    <tr>\n      <th>37762</th>\n      <td>9</td>\n      <td>Bayern</td>\n      <td>LK GÃ¼nzburg</td>\n      <td>A35-A59</td>\n      <td>M</td>\n      <td>2</td>\n      <td>0</td>\n      <td>841228</td>\n      <td>2020-03-26T00:00:00.000Z</td>\n      <td>9774</td>\n      <td>06.04.2020, 00:00 Uhr</td>\n      <td>0</td>\n      <td>-9</td>\n    </tr>\n    <tr>\n      <th>37763</th>\n      <td>9</td>\n      <td>Bayern</td>\n      <td>LK GÃ¼nzburg</td>\n      <td>A35-A59</td>\n      <td>M</td>\n      <td>3</td>\n      <td>0</td>\n      <td>841229</td>\n      <td>2020-03-28T00:00:00.000Z</td>\n      <td>9774</td>\n      <td>06.04.2020, 00:00 Uhr</td>\n      <td>0</td>\n      <td>-9</td>\n    </tr>\n    <tr>\n      <th>37764</th>\n      <td>9</td>\n      <td>Bayern</td>\n      <td>LK GÃ¼nzburg</td>\n      <td>A35-A59</td>\n      <td>M</td>\n      <td>1</td>\n      <td>0</td>\n      <td>841230</td>\n      <td>2020-03-29T00:00:00.000Z</td>\n      <td>9774</td>\n      <td>06.04.2020, 00:00 Uhr</td>\n      <td>0</td>\n      <td>-9</td>\n    </tr>\n    <tr>\n      <th>37765</th>\n      <td>9</td>\n      <td>Bayern</td>\n      <td>LK GÃ¼nzburg</td>\n      <td>A35-A59</td>\n      <td>M</td>\n      <td>6</td>\n      <td>0</td>\n      <td>841231</td>\n      <td>2020-03-31T00:00:00.000Z</td>\n      <td>9774</td>\n      <td>06.04.2020, 00:00 Uhr</td>\n      <td>0</td>\n      <td>-9</td>\n    </tr>\n  </tbody>\n</table>\n<p>37766 rows × 13 columns</p>\n</div>"
     },
     "metadata": {},
     "execution_count": 9
    }
   ],
   "source": [
    "df"
   ]
  },
  {
   "cell_type": "code",
   "execution_count": 17,
   "metadata": {},
   "outputs": [
    {
     "output_type": "execute_result",
     "data": {
      "text/plain": "                                            AnzahlFall\nBundesland        Meldedatum                          \nBaden-Württemberg 2020-01-30T00:00:00.000Z           2\n                  2020-01-31T00:00:00.000Z           2\n                  2020-02-02T00:00:00.000Z           1\n                  2020-02-23T00:00:00.000Z          12\n                  2020-02-24T00:00:00.000Z           2\n...                                                ...\nThüringen         2020-04-01T00:00:00.000Z          60\n                  2020-04-02T00:00:00.000Z          83\n                  2020-04-03T00:00:00.000Z          66\n                  2020-04-04T00:00:00.000Z          44\n                  2020-04-05T00:00:00.000Z          34\n\n[559 rows x 1 columns]",
      "text/html": "<div>\n<style scoped>\n    .dataframe tbody tr th:only-of-type {\n        vertical-align: middle;\n    }\n\n    .dataframe tbody tr th {\n        vertical-align: top;\n    }\n\n    .dataframe thead th {\n        text-align: right;\n    }\n</style>\n<table border=\"1\" class=\"dataframe\">\n  <thead>\n    <tr style=\"text-align: right;\">\n      <th></th>\n      <th></th>\n      <th>AnzahlFall</th>\n    </tr>\n    <tr>\n      <th>Bundesland</th>\n      <th>Meldedatum</th>\n      <th></th>\n    </tr>\n  </thead>\n  <tbody>\n    <tr>\n      <th rowspan=\"5\" valign=\"top\">Baden-Württemberg</th>\n      <th>2020-01-30T00:00:00.000Z</th>\n      <td>2</td>\n    </tr>\n    <tr>\n      <th>2020-01-31T00:00:00.000Z</th>\n      <td>2</td>\n    </tr>\n    <tr>\n      <th>2020-02-02T00:00:00.000Z</th>\n      <td>1</td>\n    </tr>\n    <tr>\n      <th>2020-02-23T00:00:00.000Z</th>\n      <td>12</td>\n    </tr>\n    <tr>\n      <th>2020-02-24T00:00:00.000Z</th>\n      <td>2</td>\n    </tr>\n    <tr>\n      <th>...</th>\n      <th>...</th>\n      <td>...</td>\n    </tr>\n    <tr>\n      <th rowspan=\"5\" valign=\"top\">Thüringen</th>\n      <th>2020-04-01T00:00:00.000Z</th>\n      <td>60</td>\n    </tr>\n    <tr>\n      <th>2020-04-02T00:00:00.000Z</th>\n      <td>83</td>\n    </tr>\n    <tr>\n      <th>2020-04-03T00:00:00.000Z</th>\n      <td>66</td>\n    </tr>\n    <tr>\n      <th>2020-04-04T00:00:00.000Z</th>\n      <td>44</td>\n    </tr>\n    <tr>\n      <th>2020-04-05T00:00:00.000Z</th>\n      <td>34</td>\n    </tr>\n  </tbody>\n</table>\n<p>559 rows × 1 columns</p>\n</div>"
     },
     "metadata": {},
     "execution_count": 17
    }
   ],
   "source": [
    "# df.drop(labels=[\"ï»¿IdBundesland\", \"Landkreis\", \"Altersgruppe\"], axis=\"columns\")\n",
    "cases = pandas.pivot_table(df, values=\"AnzahlFall\", index=[\"Bundesland\", \"Meldedatum\"], aggfunc=numpy.sum)\n",
    "cases"
   ]
  },
  {
   "cell_type": "code",
   "execution_count": 18,
   "metadata": {},
   "outputs": [
    {
     "output_type": "execute_result",
     "data": {
      "text/plain": "                                            AnzahlTodesfall\nBundesland        Meldedatum                               \nBaden-Württemberg 2020-01-30T00:00:00.000Z                0\n                  2020-01-31T00:00:00.000Z                0\n                  2020-02-02T00:00:00.000Z                0\n                  2020-02-23T00:00:00.000Z                0\n                  2020-02-24T00:00:00.000Z                0\n...                                                     ...\nThüringen         2020-04-01T00:00:00.000Z                1\n                  2020-04-02T00:00:00.000Z                0\n                  2020-04-03T00:00:00.000Z                0\n                  2020-04-04T00:00:00.000Z                1\n                  2020-04-05T00:00:00.000Z                0\n\n[559 rows x 1 columns]",
      "text/html": "<div>\n<style scoped>\n    .dataframe tbody tr th:only-of-type {\n        vertical-align: middle;\n    }\n\n    .dataframe tbody tr th {\n        vertical-align: top;\n    }\n\n    .dataframe thead th {\n        text-align: right;\n    }\n</style>\n<table border=\"1\" class=\"dataframe\">\n  <thead>\n    <tr style=\"text-align: right;\">\n      <th></th>\n      <th></th>\n      <th>AnzahlTodesfall</th>\n    </tr>\n    <tr>\n      <th>Bundesland</th>\n      <th>Meldedatum</th>\n      <th></th>\n    </tr>\n  </thead>\n  <tbody>\n    <tr>\n      <th rowspan=\"5\" valign=\"top\">Baden-Württemberg</th>\n      <th>2020-01-30T00:00:00.000Z</th>\n      <td>0</td>\n    </tr>\n    <tr>\n      <th>2020-01-31T00:00:00.000Z</th>\n      <td>0</td>\n    </tr>\n    <tr>\n      <th>2020-02-02T00:00:00.000Z</th>\n      <td>0</td>\n    </tr>\n    <tr>\n      <th>2020-02-23T00:00:00.000Z</th>\n      <td>0</td>\n    </tr>\n    <tr>\n      <th>2020-02-24T00:00:00.000Z</th>\n      <td>0</td>\n    </tr>\n    <tr>\n      <th>...</th>\n      <th>...</th>\n      <td>...</td>\n    </tr>\n    <tr>\n      <th rowspan=\"5\" valign=\"top\">Thüringen</th>\n      <th>2020-04-01T00:00:00.000Z</th>\n      <td>1</td>\n    </tr>\n    <tr>\n      <th>2020-04-02T00:00:00.000Z</th>\n      <td>0</td>\n    </tr>\n    <tr>\n      <th>2020-04-03T00:00:00.000Z</th>\n      <td>0</td>\n    </tr>\n    <tr>\n      <th>2020-04-04T00:00:00.000Z</th>\n      <td>1</td>\n    </tr>\n    <tr>\n      <th>2020-04-05T00:00:00.000Z</th>\n      <td>0</td>\n    </tr>\n  </tbody>\n</table>\n<p>559 rows × 1 columns</p>\n</div>"
     },
     "metadata": {},
     "execution_count": 18
    }
   ],
   "source": [
    "deaths = pandas.pivot_table(df, values=\"AnzahlTodesfall\", index=[\"Bundesland\", \"Meldedatum\"], aggfunc=numpy.sum)\n",
    "deaths"
   ]
  },
  {
   "cell_type": "code",
   "execution_count": 19,
   "metadata": {},
   "outputs": [
    {
     "output_type": "execute_result",
     "data": {
      "text/plain": "                                            AnzahlFall  AnzahlTodesfall\nBundesland        Meldedatum                                           \nBaden-Württemberg 2020-01-30T00:00:00.000Z           2                0\n                  2020-01-31T00:00:00.000Z           2                0\n                  2020-02-02T00:00:00.000Z           1                0\n                  2020-02-23T00:00:00.000Z          12                0\n                  2020-02-24T00:00:00.000Z           2                0\n...                                                ...              ...\nThüringen         2020-04-01T00:00:00.000Z          60                1\n                  2020-04-02T00:00:00.000Z          83                0\n                  2020-04-03T00:00:00.000Z          66                0\n                  2020-04-04T00:00:00.000Z          44                1\n                  2020-04-05T00:00:00.000Z          34                0\n\n[559 rows x 2 columns]",
      "text/html": "<div>\n<style scoped>\n    .dataframe tbody tr th:only-of-type {\n        vertical-align: middle;\n    }\n\n    .dataframe tbody tr th {\n        vertical-align: top;\n    }\n\n    .dataframe thead th {\n        text-align: right;\n    }\n</style>\n<table border=\"1\" class=\"dataframe\">\n  <thead>\n    <tr style=\"text-align: right;\">\n      <th></th>\n      <th></th>\n      <th>AnzahlFall</th>\n      <th>AnzahlTodesfall</th>\n    </tr>\n    <tr>\n      <th>Bundesland</th>\n      <th>Meldedatum</th>\n      <th></th>\n      <th></th>\n    </tr>\n  </thead>\n  <tbody>\n    <tr>\n      <th rowspan=\"5\" valign=\"top\">Baden-Württemberg</th>\n      <th>2020-01-30T00:00:00.000Z</th>\n      <td>2</td>\n      <td>0</td>\n    </tr>\n    <tr>\n      <th>2020-01-31T00:00:00.000Z</th>\n      <td>2</td>\n      <td>0</td>\n    </tr>\n    <tr>\n      <th>2020-02-02T00:00:00.000Z</th>\n      <td>1</td>\n      <td>0</td>\n    </tr>\n    <tr>\n      <th>2020-02-23T00:00:00.000Z</th>\n      <td>12</td>\n      <td>0</td>\n    </tr>\n    <tr>\n      <th>2020-02-24T00:00:00.000Z</th>\n      <td>2</td>\n      <td>0</td>\n    </tr>\n    <tr>\n      <th>...</th>\n      <th>...</th>\n      <td>...</td>\n      <td>...</td>\n    </tr>\n    <tr>\n      <th rowspan=\"5\" valign=\"top\">Thüringen</th>\n      <th>2020-04-01T00:00:00.000Z</th>\n      <td>60</td>\n      <td>1</td>\n    </tr>\n    <tr>\n      <th>2020-04-02T00:00:00.000Z</th>\n      <td>83</td>\n      <td>0</td>\n    </tr>\n    <tr>\n      <th>2020-04-03T00:00:00.000Z</th>\n      <td>66</td>\n      <td>0</td>\n    </tr>\n    <tr>\n      <th>2020-04-04T00:00:00.000Z</th>\n      <td>44</td>\n      <td>1</td>\n    </tr>\n    <tr>\n      <th>2020-04-05T00:00:00.000Z</th>\n      <td>34</td>\n      <td>0</td>\n    </tr>\n  </tbody>\n</table>\n<p>559 rows × 2 columns</p>\n</div>"
     },
     "metadata": {},
     "execution_count": 19
    }
   ],
   "source": [
    "merged = cases.join(deaths, how=\"outer\")\n",
    "merged"
   ]
  },
  {
   "cell_type": "code",
   "execution_count": 21,
   "metadata": {},
   "outputs": [
    {
     "output_type": "execute_result",
     "data": {
      "text/plain": "                                            AnzahlFall  AnzahlTodesfall\nBundesland        Meldedatum                                           \nBaden-Württemberg 2020-01-30T00:00:00.000Z           2                0\n                  2020-01-31T00:00:00.000Z           2                0\n                  2020-02-02T00:00:00.000Z           1                0\n                  2020-02-23T00:00:00.000Z          12                0\n                  2020-02-24T00:00:00.000Z           2                0\n...                                                ...              ...\nThüringen         2020-04-01T00:00:00.000Z          60                1\n                  2020-04-02T00:00:00.000Z          83                0\n                  2020-04-03T00:00:00.000Z          66                0\n                  2020-04-04T00:00:00.000Z          44                1\n                  2020-04-05T00:00:00.000Z          34                0\n\n[559 rows x 2 columns]",
      "text/html": "<div>\n<style scoped>\n    .dataframe tbody tr th:only-of-type {\n        vertical-align: middle;\n    }\n\n    .dataframe tbody tr th {\n        vertical-align: top;\n    }\n\n    .dataframe thead th {\n        text-align: right;\n    }\n</style>\n<table border=\"1\" class=\"dataframe\">\n  <thead>\n    <tr style=\"text-align: right;\">\n      <th></th>\n      <th></th>\n      <th>AnzahlFall</th>\n      <th>AnzahlTodesfall</th>\n    </tr>\n    <tr>\n      <th>Bundesland</th>\n      <th>Meldedatum</th>\n      <th></th>\n      <th></th>\n    </tr>\n  </thead>\n  <tbody>\n    <tr>\n      <th rowspan=\"5\" valign=\"top\">Baden-Württemberg</th>\n      <th>2020-01-30T00:00:00.000Z</th>\n      <td>2</td>\n      <td>0</td>\n    </tr>\n    <tr>\n      <th>2020-01-31T00:00:00.000Z</th>\n      <td>2</td>\n      <td>0</td>\n    </tr>\n    <tr>\n      <th>2020-02-02T00:00:00.000Z</th>\n      <td>1</td>\n      <td>0</td>\n    </tr>\n    <tr>\n      <th>2020-02-23T00:00:00.000Z</th>\n      <td>12</td>\n      <td>0</td>\n    </tr>\n    <tr>\n      <th>2020-02-24T00:00:00.000Z</th>\n      <td>2</td>\n      <td>0</td>\n    </tr>\n    <tr>\n      <th>...</th>\n      <th>...</th>\n      <td>...</td>\n      <td>...</td>\n    </tr>\n    <tr>\n      <th rowspan=\"5\" valign=\"top\">Thüringen</th>\n      <th>2020-04-01T00:00:00.000Z</th>\n      <td>60</td>\n      <td>1</td>\n    </tr>\n    <tr>\n      <th>2020-04-02T00:00:00.000Z</th>\n      <td>83</td>\n      <td>0</td>\n    </tr>\n    <tr>\n      <th>2020-04-03T00:00:00.000Z</th>\n      <td>66</td>\n      <td>0</td>\n    </tr>\n    <tr>\n      <th>2020-04-04T00:00:00.000Z</th>\n      <td>44</td>\n      <td>1</td>\n    </tr>\n    <tr>\n      <th>2020-04-05T00:00:00.000Z</th>\n      <td>34</td>\n      <td>0</td>\n    </tr>\n  </tbody>\n</table>\n<p>559 rows × 2 columns</p>\n</div>"
     },
     "metadata": {},
     "execution_count": 21
    }
   ],
   "source": [
    "sorted = merged.sort_index(axis=0, level=[0, 1])\n",
    "sorted"
   ]
  },
  {
   "cell_type": "code",
   "execution_count": 27,
   "metadata": {},
   "outputs": [],
   "source": [
    "sorted.columns = [\"Cases\", \"Deaths\"]"
   ]
  },
  {
   "cell_type": "code",
   "execution_count": 28,
   "metadata": {},
   "outputs": [
    {
     "output_type": "execute_result",
     "data": {
      "text/plain": "                                            Cases  Deaths\nBundesland        Meldedatum                             \nBaden-Württemberg 2020-01-30T00:00:00.000Z      2       0\n                  2020-01-31T00:00:00.000Z      4       0\n                  2020-02-02T00:00:00.000Z      5       0\n                  2020-02-23T00:00:00.000Z     17       0\n                  2020-02-24T00:00:00.000Z     19       0\n...                                           ...     ...\nThüringen         2020-04-01T00:00:00.000Z  95122    1428\n                  2020-04-02T00:00:00.000Z  95205    1428\n                  2020-04-03T00:00:00.000Z  95271    1428\n                  2020-04-04T00:00:00.000Z  95315    1429\n                  2020-04-05T00:00:00.000Z  95349    1429\n\n[559 rows x 2 columns]",
      "text/html": "<div>\n<style scoped>\n    .dataframe tbody tr th:only-of-type {\n        vertical-align: middle;\n    }\n\n    .dataframe tbody tr th {\n        vertical-align: top;\n    }\n\n    .dataframe thead th {\n        text-align: right;\n    }\n</style>\n<table border=\"1\" class=\"dataframe\">\n  <thead>\n    <tr style=\"text-align: right;\">\n      <th></th>\n      <th></th>\n      <th>Cases</th>\n      <th>Deaths</th>\n    </tr>\n    <tr>\n      <th>Bundesland</th>\n      <th>Meldedatum</th>\n      <th></th>\n      <th></th>\n    </tr>\n  </thead>\n  <tbody>\n    <tr>\n      <th rowspan=\"5\" valign=\"top\">Baden-Württemberg</th>\n      <th>2020-01-30T00:00:00.000Z</th>\n      <td>2</td>\n      <td>0</td>\n    </tr>\n    <tr>\n      <th>2020-01-31T00:00:00.000Z</th>\n      <td>4</td>\n      <td>0</td>\n    </tr>\n    <tr>\n      <th>2020-02-02T00:00:00.000Z</th>\n      <td>5</td>\n      <td>0</td>\n    </tr>\n    <tr>\n      <th>2020-02-23T00:00:00.000Z</th>\n      <td>17</td>\n      <td>0</td>\n    </tr>\n    <tr>\n      <th>2020-02-24T00:00:00.000Z</th>\n      <td>19</td>\n      <td>0</td>\n    </tr>\n    <tr>\n      <th>...</th>\n      <th>...</th>\n      <td>...</td>\n      <td>...</td>\n    </tr>\n    <tr>\n      <th rowspan=\"5\" valign=\"top\">Thüringen</th>\n      <th>2020-04-01T00:00:00.000Z</th>\n      <td>95122</td>\n      <td>1428</td>\n    </tr>\n    <tr>\n      <th>2020-04-02T00:00:00.000Z</th>\n      <td>95205</td>\n      <td>1428</td>\n    </tr>\n    <tr>\n      <th>2020-04-03T00:00:00.000Z</th>\n      <td>95271</td>\n      <td>1428</td>\n    </tr>\n    <tr>\n      <th>2020-04-04T00:00:00.000Z</th>\n      <td>95315</td>\n      <td>1429</td>\n    </tr>\n    <tr>\n      <th>2020-04-05T00:00:00.000Z</th>\n      <td>95349</td>\n      <td>1429</td>\n    </tr>\n  </tbody>\n</table>\n<p>559 rows × 2 columns</p>\n</div>"
     },
     "metadata": {},
     "execution_count": 28
    }
   ],
   "source": [
    "sorted.cumsum()"
   ]
  },
  {
   "cell_type": "code",
   "execution_count": 29,
   "metadata": {},
   "outputs": [
    {
     "output_type": "execute_result",
     "data": {
      "text/plain": "                                            Cases  Deaths\nBundesland        Meldedatum                             \nBaden-Württemberg 2020-01-30T00:00:00.000Z      2       0\n                  2020-01-31T00:00:00.000Z      4       0\n                  2020-02-02T00:00:00.000Z      5       0\n                  2020-02-23T00:00:00.000Z     17       0\n                  2020-02-24T00:00:00.000Z     19       0\n...                                           ...     ...\nThüringen         2020-04-01T00:00:00.000Z    949      11\n                  2020-04-02T00:00:00.000Z   1032      11\n                  2020-04-03T00:00:00.000Z   1098      11\n                  2020-04-04T00:00:00.000Z   1142      12\n                  2020-04-05T00:00:00.000Z   1176      12\n\n[559 rows x 2 columns]",
      "text/html": "<div>\n<style scoped>\n    .dataframe tbody tr th:only-of-type {\n        vertical-align: middle;\n    }\n\n    .dataframe tbody tr th {\n        vertical-align: top;\n    }\n\n    .dataframe thead th {\n        text-align: right;\n    }\n</style>\n<table border=\"1\" class=\"dataframe\">\n  <thead>\n    <tr style=\"text-align: right;\">\n      <th></th>\n      <th></th>\n      <th>Cases</th>\n      <th>Deaths</th>\n    </tr>\n    <tr>\n      <th>Bundesland</th>\n      <th>Meldedatum</th>\n      <th></th>\n      <th></th>\n    </tr>\n  </thead>\n  <tbody>\n    <tr>\n      <th rowspan=\"5\" valign=\"top\">Baden-Württemberg</th>\n      <th>2020-01-30T00:00:00.000Z</th>\n      <td>2</td>\n      <td>0</td>\n    </tr>\n    <tr>\n      <th>2020-01-31T00:00:00.000Z</th>\n      <td>4</td>\n      <td>0</td>\n    </tr>\n    <tr>\n      <th>2020-02-02T00:00:00.000Z</th>\n      <td>5</td>\n      <td>0</td>\n    </tr>\n    <tr>\n      <th>2020-02-23T00:00:00.000Z</th>\n      <td>17</td>\n      <td>0</td>\n    </tr>\n    <tr>\n      <th>2020-02-24T00:00:00.000Z</th>\n      <td>19</td>\n      <td>0</td>\n    </tr>\n    <tr>\n      <th>...</th>\n      <th>...</th>\n      <td>...</td>\n      <td>...</td>\n    </tr>\n    <tr>\n      <th rowspan=\"5\" valign=\"top\">Thüringen</th>\n      <th>2020-04-01T00:00:00.000Z</th>\n      <td>949</td>\n      <td>11</td>\n    </tr>\n    <tr>\n      <th>2020-04-02T00:00:00.000Z</th>\n      <td>1032</td>\n      <td>11</td>\n    </tr>\n    <tr>\n      <th>2020-04-03T00:00:00.000Z</th>\n      <td>1098</td>\n      <td>11</td>\n    </tr>\n    <tr>\n      <th>2020-04-04T00:00:00.000Z</th>\n      <td>1142</td>\n      <td>12</td>\n    </tr>\n    <tr>\n      <th>2020-04-05T00:00:00.000Z</th>\n      <td>1176</td>\n      <td>12</td>\n    </tr>\n  </tbody>\n</table>\n<p>559 rows × 2 columns</p>\n</div>"
     },
     "metadata": {},
     "execution_count": 29
    }
   ],
   "source": [
    "sorted.groupby(\"Bundesland\").cumsum()"
   ]
  },
  {
   "cell_type": "code",
   "execution_count": 30,
   "metadata": {},
   "outputs": [
    {
     "output_type": "execute_result",
     "data": {
      "text/plain": "                                            TotalCases  TotalDeaths\nBundesland        Meldedatum                                       \nBaden-Württemberg 2020-01-30T00:00:00.000Z           2            0\n                  2020-01-31T00:00:00.000Z           4            0\n                  2020-02-02T00:00:00.000Z           5            0\n                  2020-02-23T00:00:00.000Z          17            0\n                  2020-02-24T00:00:00.000Z          19            0\n...                                                ...          ...\nThüringen         2020-04-01T00:00:00.000Z         949           11\n                  2020-04-02T00:00:00.000Z        1032           11\n                  2020-04-03T00:00:00.000Z        1098           11\n                  2020-04-04T00:00:00.000Z        1142           12\n                  2020-04-05T00:00:00.000Z        1176           12\n\n[559 rows x 2 columns]",
      "text/html": "<div>\n<style scoped>\n    .dataframe tbody tr th:only-of-type {\n        vertical-align: middle;\n    }\n\n    .dataframe tbody tr th {\n        vertical-align: top;\n    }\n\n    .dataframe thead th {\n        text-align: right;\n    }\n</style>\n<table border=\"1\" class=\"dataframe\">\n  <thead>\n    <tr style=\"text-align: right;\">\n      <th></th>\n      <th></th>\n      <th>TotalCases</th>\n      <th>TotalDeaths</th>\n    </tr>\n    <tr>\n      <th>Bundesland</th>\n      <th>Meldedatum</th>\n      <th></th>\n      <th></th>\n    </tr>\n  </thead>\n  <tbody>\n    <tr>\n      <th rowspan=\"5\" valign=\"top\">Baden-Württemberg</th>\n      <th>2020-01-30T00:00:00.000Z</th>\n      <td>2</td>\n      <td>0</td>\n    </tr>\n    <tr>\n      <th>2020-01-31T00:00:00.000Z</th>\n      <td>4</td>\n      <td>0</td>\n    </tr>\n    <tr>\n      <th>2020-02-02T00:00:00.000Z</th>\n      <td>5</td>\n      <td>0</td>\n    </tr>\n    <tr>\n      <th>2020-02-23T00:00:00.000Z</th>\n      <td>17</td>\n      <td>0</td>\n    </tr>\n    <tr>\n      <th>2020-02-24T00:00:00.000Z</th>\n      <td>19</td>\n      <td>0</td>\n    </tr>\n    <tr>\n      <th>...</th>\n      <th>...</th>\n      <td>...</td>\n      <td>...</td>\n    </tr>\n    <tr>\n      <th rowspan=\"5\" valign=\"top\">Thüringen</th>\n      <th>2020-04-01T00:00:00.000Z</th>\n      <td>949</td>\n      <td>11</td>\n    </tr>\n    <tr>\n      <th>2020-04-02T00:00:00.000Z</th>\n      <td>1032</td>\n      <td>11</td>\n    </tr>\n    <tr>\n      <th>2020-04-03T00:00:00.000Z</th>\n      <td>1098</td>\n      <td>11</td>\n    </tr>\n    <tr>\n      <th>2020-04-04T00:00:00.000Z</th>\n      <td>1142</td>\n      <td>12</td>\n    </tr>\n    <tr>\n      <th>2020-04-05T00:00:00.000Z</th>\n      <td>1176</td>\n      <td>12</td>\n    </tr>\n  </tbody>\n</table>\n<p>559 rows × 2 columns</p>\n</div>"
     },
     "metadata": {},
     "execution_count": 30
    }
   ],
   "source": [
    "cummulated = sorted.groupby(\"Bundesland\").cumsum()\n",
    "cummulated.columns = [\"TotalCases\", \"TotalDeaths\"]\n",
    "cummulated"
   ]
  },
  {
   "cell_type": "code",
   "execution_count": 31,
   "metadata": {},
   "outputs": [
    {
     "output_type": "execute_result",
     "data": {
      "text/plain": "                                            Cases  Deaths  TotalCases  \\\nBundesland        Meldedatum                                            \nBaden-Württemberg 2020-01-30T00:00:00.000Z      2       0           2   \n                  2020-01-31T00:00:00.000Z      2       0           4   \n                  2020-02-02T00:00:00.000Z      1       0           5   \n                  2020-02-23T00:00:00.000Z     12       0          17   \n                  2020-02-24T00:00:00.000Z      2       0          19   \n...                                           ...     ...         ...   \nThüringen         2020-04-01T00:00:00.000Z     60       1         949   \n                  2020-04-02T00:00:00.000Z     83       0        1032   \n                  2020-04-03T00:00:00.000Z     66       0        1098   \n                  2020-04-04T00:00:00.000Z     44       1        1142   \n                  2020-04-05T00:00:00.000Z     34       0        1176   \n\n                                            TotalDeaths  \nBundesland        Meldedatum                             \nBaden-Württemberg 2020-01-30T00:00:00.000Z            0  \n                  2020-01-31T00:00:00.000Z            0  \n                  2020-02-02T00:00:00.000Z            0  \n                  2020-02-23T00:00:00.000Z            0  \n                  2020-02-24T00:00:00.000Z            0  \n...                                                 ...  \nThüringen         2020-04-01T00:00:00.000Z           11  \n                  2020-04-02T00:00:00.000Z           11  \n                  2020-04-03T00:00:00.000Z           11  \n                  2020-04-04T00:00:00.000Z           12  \n                  2020-04-05T00:00:00.000Z           12  \n\n[559 rows x 4 columns]",
      "text/html": "<div>\n<style scoped>\n    .dataframe tbody tr th:only-of-type {\n        vertical-align: middle;\n    }\n\n    .dataframe tbody tr th {\n        vertical-align: top;\n    }\n\n    .dataframe thead th {\n        text-align: right;\n    }\n</style>\n<table border=\"1\" class=\"dataframe\">\n  <thead>\n    <tr style=\"text-align: right;\">\n      <th></th>\n      <th></th>\n      <th>Cases</th>\n      <th>Deaths</th>\n      <th>TotalCases</th>\n      <th>TotalDeaths</th>\n    </tr>\n    <tr>\n      <th>Bundesland</th>\n      <th>Meldedatum</th>\n      <th></th>\n      <th></th>\n      <th></th>\n      <th></th>\n    </tr>\n  </thead>\n  <tbody>\n    <tr>\n      <th rowspan=\"5\" valign=\"top\">Baden-Württemberg</th>\n      <th>2020-01-30T00:00:00.000Z</th>\n      <td>2</td>\n      <td>0</td>\n      <td>2</td>\n      <td>0</td>\n    </tr>\n    <tr>\n      <th>2020-01-31T00:00:00.000Z</th>\n      <td>2</td>\n      <td>0</td>\n      <td>4</td>\n      <td>0</td>\n    </tr>\n    <tr>\n      <th>2020-02-02T00:00:00.000Z</th>\n      <td>1</td>\n      <td>0</td>\n      <td>5</td>\n      <td>0</td>\n    </tr>\n    <tr>\n      <th>2020-02-23T00:00:00.000Z</th>\n      <td>12</td>\n      <td>0</td>\n      <td>17</td>\n      <td>0</td>\n    </tr>\n    <tr>\n      <th>2020-02-24T00:00:00.000Z</th>\n      <td>2</td>\n      <td>0</td>\n      <td>19</td>\n      <td>0</td>\n    </tr>\n    <tr>\n      <th>...</th>\n      <th>...</th>\n      <td>...</td>\n      <td>...</td>\n      <td>...</td>\n      <td>...</td>\n    </tr>\n    <tr>\n      <th rowspan=\"5\" valign=\"top\">Thüringen</th>\n      <th>2020-04-01T00:00:00.000Z</th>\n      <td>60</td>\n      <td>1</td>\n      <td>949</td>\n      <td>11</td>\n    </tr>\n    <tr>\n      <th>2020-04-02T00:00:00.000Z</th>\n      <td>83</td>\n      <td>0</td>\n      <td>1032</td>\n      <td>11</td>\n    </tr>\n    <tr>\n      <th>2020-04-03T00:00:00.000Z</th>\n      <td>66</td>\n      <td>0</td>\n      <td>1098</td>\n      <td>11</td>\n    </tr>\n    <tr>\n      <th>2020-04-04T00:00:00.000Z</th>\n      <td>44</td>\n      <td>1</td>\n      <td>1142</td>\n      <td>12</td>\n    </tr>\n    <tr>\n      <th>2020-04-05T00:00:00.000Z</th>\n      <td>34</td>\n      <td>0</td>\n      <td>1176</td>\n      <td>12</td>\n    </tr>\n  </tbody>\n</table>\n<p>559 rows × 4 columns</p>\n</div>"
     },
     "metadata": {},
     "execution_count": 31
    }
   ],
   "source": [
    "final = sorted.join(cummulated, how=\"outer\")\n",
    "final"
   ]
  },
  {
   "cell_type": "code",
   "execution_count": 32,
   "metadata": {},
   "outputs": [
    {
     "output_type": "execute_result",
     "data": {
      "text/plain": "                                            Cases  Deaths  TotalCases  \\\nState             Date                                                  \nBaden-Württemberg 2020-01-30T00:00:00.000Z      2       0           2   \n                  2020-01-31T00:00:00.000Z      2       0           4   \n                  2020-02-02T00:00:00.000Z      1       0           5   \n                  2020-02-23T00:00:00.000Z     12       0          17   \n                  2020-02-24T00:00:00.000Z      2       0          19   \n...                                           ...     ...         ...   \nThüringen         2020-04-01T00:00:00.000Z     60       1         949   \n                  2020-04-02T00:00:00.000Z     83       0        1032   \n                  2020-04-03T00:00:00.000Z     66       0        1098   \n                  2020-04-04T00:00:00.000Z     44       1        1142   \n                  2020-04-05T00:00:00.000Z     34       0        1176   \n\n                                            TotalDeaths  \nState             Date                                   \nBaden-Württemberg 2020-01-30T00:00:00.000Z            0  \n                  2020-01-31T00:00:00.000Z            0  \n                  2020-02-02T00:00:00.000Z            0  \n                  2020-02-23T00:00:00.000Z            0  \n                  2020-02-24T00:00:00.000Z            0  \n...                                                 ...  \nThüringen         2020-04-01T00:00:00.000Z           11  \n                  2020-04-02T00:00:00.000Z           11  \n                  2020-04-03T00:00:00.000Z           11  \n                  2020-04-04T00:00:00.000Z           12  \n                  2020-04-05T00:00:00.000Z           12  \n\n[559 rows x 4 columns]",
      "text/html": "<div>\n<style scoped>\n    .dataframe tbody tr th:only-of-type {\n        vertical-align: middle;\n    }\n\n    .dataframe tbody tr th {\n        vertical-align: top;\n    }\n\n    .dataframe thead th {\n        text-align: right;\n    }\n</style>\n<table border=\"1\" class=\"dataframe\">\n  <thead>\n    <tr style=\"text-align: right;\">\n      <th></th>\n      <th></th>\n      <th>Cases</th>\n      <th>Deaths</th>\n      <th>TotalCases</th>\n      <th>TotalDeaths</th>\n    </tr>\n    <tr>\n      <th>State</th>\n      <th>Date</th>\n      <th></th>\n      <th></th>\n      <th></th>\n      <th></th>\n    </tr>\n  </thead>\n  <tbody>\n    <tr>\n      <th rowspan=\"5\" valign=\"top\">Baden-Württemberg</th>\n      <th>2020-01-30T00:00:00.000Z</th>\n      <td>2</td>\n      <td>0</td>\n      <td>2</td>\n      <td>0</td>\n    </tr>\n    <tr>\n      <th>2020-01-31T00:00:00.000Z</th>\n      <td>2</td>\n      <td>0</td>\n      <td>4</td>\n      <td>0</td>\n    </tr>\n    <tr>\n      <th>2020-02-02T00:00:00.000Z</th>\n      <td>1</td>\n      <td>0</td>\n      <td>5</td>\n      <td>0</td>\n    </tr>\n    <tr>\n      <th>2020-02-23T00:00:00.000Z</th>\n      <td>12</td>\n      <td>0</td>\n      <td>17</td>\n      <td>0</td>\n    </tr>\n    <tr>\n      <th>2020-02-24T00:00:00.000Z</th>\n      <td>2</td>\n      <td>0</td>\n      <td>19</td>\n      <td>0</td>\n    </tr>\n    <tr>\n      <th>...</th>\n      <th>...</th>\n      <td>...</td>\n      <td>...</td>\n      <td>...</td>\n      <td>...</td>\n    </tr>\n    <tr>\n      <th rowspan=\"5\" valign=\"top\">Thüringen</th>\n      <th>2020-04-01T00:00:00.000Z</th>\n      <td>60</td>\n      <td>1</td>\n      <td>949</td>\n      <td>11</td>\n    </tr>\n    <tr>\n      <th>2020-04-02T00:00:00.000Z</th>\n      <td>83</td>\n      <td>0</td>\n      <td>1032</td>\n      <td>11</td>\n    </tr>\n    <tr>\n      <th>2020-04-03T00:00:00.000Z</th>\n      <td>66</td>\n      <td>0</td>\n      <td>1098</td>\n      <td>11</td>\n    </tr>\n    <tr>\n      <th>2020-04-04T00:00:00.000Z</th>\n      <td>44</td>\n      <td>1</td>\n      <td>1142</td>\n      <td>12</td>\n    </tr>\n    <tr>\n      <th>2020-04-05T00:00:00.000Z</th>\n      <td>34</td>\n      <td>0</td>\n      <td>1176</td>\n      <td>12</td>\n    </tr>\n  </tbody>\n</table>\n<p>559 rows × 4 columns</p>\n</div>"
     },
     "metadata": {},
     "execution_count": 32
    }
   ],
   "source": [
    "final.rename_axis([\"State\", \"Date\"])"
   ]
  },
  {
   "cell_type": "code",
   "execution_count": null,
   "metadata": {},
   "outputs": [],
   "source": []
  }
 ]
}